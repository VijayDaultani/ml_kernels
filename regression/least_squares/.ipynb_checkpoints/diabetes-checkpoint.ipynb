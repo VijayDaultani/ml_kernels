{
 "cells": [
  {
   "cell_type": "markdown",
   "metadata": {},
   "source": [
    "# Following will be the steps we will follow to perform linear regression on the dataset.¶\n",
    "\n",
    "## Setup\n",
    "* Step 1 : Import Necessary Libraries\n",
    "* Step 2 : Load Data\n",
    "* Step 3 : Start Exploring dataset\n",
    "* Step 4 : Use Seaborn to visualize the dataset\n",
    "* Step 5 : Splitting X and y into training and testing sets\n",
    "\n",
    "## Module A : Ordinary Least Squares Method\n",
    "* Step A_1 : Creating and training a Linear Regression object\n",
    "* Step A_2 : Predictions on testing data and metrics\n",
    "* Step A_3 : Plot the learned Linear Regression model\n",
    "* Step A_4 : No need to perform the cross validation ?\n",
    "\n",
    "## Module B : Ridge Regression\n",
    "* Step B_1 : Creating and training a Ridge Regression object\n",
    "* Step B_2 : Predictions on testing data and metrics\n",
    "* Step B_3 : Plot the learned Ridge Regression model\n",
    "* Step B_4 : Perform cross validation\n",
    "\n",
    "## Module C : Lasso Regression"
   ]
  },
  {
   "cell_type": "markdown",
   "metadata": {},
   "source": [
    "# Setup\n",
    "## Step 1 : Import Necessary Libraries"
   ]
  },
  {
   "cell_type": "code",
   "execution_count": 27,
   "metadata": {
    "collapsed": true
   },
   "outputs": [],
   "source": [
    "\"\"\"\n",
    "First of all we will import necessary packages required for our task of exploration,\n",
    "visualization, analaysis and fitting models and measuring how good they are\n",
    "\"\"\"\n",
    "\n",
    "#Import numpy and pandas\n",
    "import numpy as np\n",
    "#import pandas as pd\n",
    "\n",
    "#Import seaborn and matplotlib for plotting\n",
    "import matplotlib.pyplot as plt \n",
    "import seaborn as sns\n",
    "\n",
    "#Magic line to print all matplotlib plots on the same notebook\n",
    "%matplotlib inline\n",
    "\n",
    "#Import dataset and linear_model from sklearn\n",
    "from sklearn import datasets\n",
    "from sklearn.cross_validation import train_test_split"
   ]
  },
  {
   "cell_type": "markdown",
   "metadata": {},
   "source": [
    "# Step 2 : Load Data"
   ]
  },
  {
   "cell_type": "code",
   "execution_count": 28,
   "metadata": {
    "collapsed": false
   },
   "outputs": [],
   "source": [
    "\"\"\"\n",
    "Load the diabetes dataset\n",
    "\"\"\"\n",
    "diabetes = datasets.load_diabetes()\n",
    "\n",
    "#Use only one feature for our analysis i.e. feature 2\n",
    "X = diabetes.data[:,np.newaxis, 2]\n",
    "y = diabetes.target"
   ]
  },
  {
   "cell_type": "markdown",
   "metadata": {},
   "source": [
    "# Step 3 : Start Exploring dataset"
   ]
  },
  {
   "cell_type": "code",
   "execution_count": 29,
   "metadata": {
    "collapsed": false
   },
   "outputs": [
    {
     "name": "stdout",
     "output_type": "stream",
     "text": [
      "X Shape : (442, 1)\n",
      "y Shape : (442,)\n"
     ]
    }
   ],
   "source": [
    "print \"X Shape : \" + str(X.shape)\n",
    "print \"y Shape : \" + str(y.shape)"
   ]
  },
  {
   "cell_type": "markdown",
   "metadata": {},
   "source": [
    "# Step 4 : Use seaborn to visualize the dataset"
   ]
  },
  {
   "cell_type": "code",
   "execution_count": 30,
   "metadata": {
    "collapsed": false
   },
   "outputs": [
    {
     "data": {
      "text/plain": [
       "<seaborn.axisgrid.JointGrid at 0x12573a390>"
      ]
     },
     "execution_count": 30,
     "metadata": {},
     "output_type": "execute_result"
    },
    {
     "data": {
      "image/png": "[encoded data removed]",
      "text/plain": [
       "<matplotlib.figure.Figure at 0x12573aa10>"
      ]
     },
     "metadata": {},
     "output_type": "display_data"
    }
   ],
   "source": [
    "sns.jointplot(x=X[:,0], y=y)"
   ]
  },
  {
   "cell_type": "markdown",
   "metadata": {},
   "source": [
    "# Step 5 : Splitting X and y into training and testing sets\n"
   ]
  },
  {
   "cell_type": "code",
   "execution_count": 31,
   "metadata": {
    "collapsed": false
   },
   "outputs": [
    {
     "name": "stdout",
     "output_type": "stream",
     "text": [
      "X_train shape : (331, 1)\n",
      "X_test shape : (111, 1)\n",
      "y_train shape : (331,)\n",
      "y_test shape : (111,)\n"
     ]
    }
   ],
   "source": [
    "X_train, X_test, y_train, y_test = train_test_split(X, y, random_state = 1)\n",
    "\n",
    "#Scikit does 75% for training and 25% for testing by default\n",
    "print \"X_train shape : \" + str(X_train.shape)\n",
    "print \"X_test shape : \" + str(X_test.shape)\n",
    "print \"y_train shape : \" + str(y_train.shape)\n",
    "print \"y_test shape : \" + str(y_test.shape)"
   ]
  },
  {
   "cell_type": "markdown",
   "metadata": {},
   "source": [
    "# Module A : Ordinary Least Squares Method\n",
    "## Step A_1 : Creating and training a Linear regression object"
   ]
  },
  {
   "cell_type": "code",
   "execution_count": 32,
   "metadata": {
    "collapsed": false
   },
   "outputs": [
    {
     "data": {
      "text/plain": [
       "LinearRegression(copy_X=True, fit_intercept=True, n_jobs=1, normalize=False)"
      ]
     },
     "execution_count": 32,
     "metadata": {},
     "output_type": "execute_result"
    }
   ],
   "source": [
    "#Import LinearRegression \n",
    "from sklearn.linear_model import LinearRegression\n",
    "\n",
    "#Create a linear regression object\n",
    "lin_reg = LinearRegression()\n",
    "\n",
    "#Train the model using the training set\n",
    "lin_reg.fit(X_train, y_train)"
   ]
  },
  {
   "cell_type": "code",
   "execution_count": 33,
   "metadata": {
    "collapsed": false
   },
   "outputs": [
    {
     "name": "stdout",
     "output_type": "stream",
     "text": [
      "Intercept : 151.45222564\n",
      "coefficeint : [ 1015.81069855]\n"
     ]
    }
   ],
   "source": [
    "#Print the learned intercept and coefficients\n",
    "print \"Intercept : \" + str(lin_reg.intercept_)\n",
    "print \"coefficeint : \" + str(lin_reg.coef_)"
   ]
  },
  {
   "cell_type": "markdown",
   "metadata": {},
   "source": [
    "## Step A_2 : Predictions on testing data and metrics"
   ]
  },
  {
   "cell_type": "code",
   "execution_count": 41,
   "metadata": {
    "collapsed": false
   },
   "outputs": [
    {
     "name": "stdout",
     "output_type": "stream",
     "text": [
      "Linear Regression RSS : 4309.22121288\n",
      "Linear Regression RMSE : 65.6446586775\n"
     ]
    }
   ],
   "source": [
    "#Make predictions on test data\n",
    "y_pred_lin = lin_reg.predict(X_test)\n",
    "\n",
    "# The mean RSS (Residual Sum of Squares)\n",
    "RSS_lin = np.mean((y_pred_lin - y_test) ** 2)\n",
    "print \"Linear Regression RSS : \" + str(RSS_lin)\n",
    "\n",
    "#Print RMSE (Root Mean Squared Error)\n",
    "RMSE_lin = np.sqrt(RSS_lin)\n",
    "print \"Linear Regression RMSE : \" + str(RMSE_lin)\n",
    "\n",
    "#from sklearn import metrics\n",
    "#print np.sqrt(metrics.mean_squared_error(y_test,y_pred_lin))"
   ]
  },
  {
   "cell_type": "code",
   "execution_count": 42,
   "metadata": {
    "collapsed": false
   },
   "outputs": [
    {
     "name": "stdout",
     "output_type": "stream",
     "text": [
      "Variance score : 0.174662098653\n"
     ]
    }
   ],
   "source": [
    "# Variance score : 1 is perfect prediction\n",
    "print \"Variance score : \" + str(lin_reg.score(X_test, y_test))"
   ]
  },
  {
   "cell_type": "markdown",
   "metadata": {},
   "source": [
    "## Step A_3 : Plot the learned Linear Regression model"
   ]
  },
  {
   "cell_type": "code",
   "execution_count": 43,
   "metadata": {
    "collapsed": false
   },
   "outputs": [
    {
     "data": {
      "text/plain": [
       "[<matplotlib.lines.Line2D at 0x12853ce50>]"
      ]
     },
     "execution_count": 43,
     "metadata": {},
     "output_type": "execute_result"
    },
    {
     "data": {
      "image/png": "[encoded data removed]",
      "text/plain": [
       "<matplotlib.figure.Figure at 0x12813a250>"
      ]
     },
     "metadata": {},
     "output_type": "display_data"
    }
   ],
   "source": [
    "grid = sns.JointGrid(x=X_test[:,0], y=y_test, ratio=50)\n",
    "grid.plot_joint(plt.scatter)\n",
    "plt.plot(X_test[:,0], y_pred_lin, color='green')"
   ]
  },
  {
   "cell_type": "markdown",
   "metadata": {},
   "source": [
    "# Step A_4 : No need to perform the cross validation ?"
   ]
  },
  {
   "cell_type": "markdown",
   "metadata": {},
   "source": [
    "# Module  B : Ridge Regression\n",
    "## Step B_1 : Creating and training a Ridge Regression object"
   ]
  },
  {
   "cell_type": "code",
   "execution_count": 44,
   "metadata": {
    "collapsed": false
   },
   "outputs": [
    {
     "data": {
      "text/plain": [
       "Ridge(alpha=1.0, copy_X=True, fit_intercept=True, max_iter=None,\n",
       "   normalize=False, random_state=None, solver='auto', tol=0.001)"
      ]
     },
     "execution_count": 44,
     "metadata": {},
     "output_type": "execute_result"
    }
   ],
   "source": [
    "#Import Ridge Regression Model\n",
    "from sklearn.linear_model import Ridge\n",
    "\n",
    "#Create a linear regression object\n",
    "ridge_reg = Ridge()\n",
    "\n",
    "#Train the model using the training set\n",
    "#When alpha not set default is 1.0\n",
    "ridge_reg.fit(X_train, y_train)"
   ]
  },
  {
   "cell_type": "code",
   "execution_count": 46,
   "metadata": {
    "collapsed": false
   },
   "outputs": [
    {
     "name": "stdout",
     "output_type": "stream",
     "text": [
      "Intercept : 152.698430676\n",
      "coefficeint : [ 441.27616635]\n"
     ]
    }
   ],
   "source": [
    "#Print the learned intercept and coefficients\n",
    "print \"Intercept : \" + str(ridge_reg.intercept_)\n",
    "print \"coefficeint : \" + str(ridge_reg.coef_)"
   ]
  },
  {
   "cell_type": "markdown",
   "metadata": {},
   "source": [
    "## Step B_2 : Predictions on testing data and metrics"
   ]
  },
  {
   "cell_type": "code",
   "execution_count": 45,
   "metadata": {
    "collapsed": false
   },
   "outputs": [
    {
     "name": "stdout",
     "output_type": "stream",
     "text": [
      "Ridge Regression RSS : 4311.27078912\n",
      "Ridge Regression RMSE : 65.6602679641\n"
     ]
    }
   ],
   "source": [
    "#Make predictions on test data\n",
    "y_pred_ridge = ridge_reg.predict(X_test)\n",
    "\n",
    "# The mean RSS (Residual Sum of Squares)\n",
    "RSS_ridge = np.mean((y_pred_ridge - y_test) ** 2)\n",
    "print \"Ridge Regression RSS : \" + str(RSS_ridge)\n",
    "\n",
    "#Print RMSE (Root Mean Squared Error)\n",
    "RMSE_ridge = np.sqrt(RSS_ridge)\n",
    "print \"Ridge Regression RMSE : \" + str(RMSE_ridge)\n",
    "\n",
    "#from sklearn import metrics\n",
    "#print np.sqrt(metrics.mean_squared_error(y_test,y_pred))"
   ]
  },
  {
   "cell_type": "code",
   "execution_count": 47,
   "metadata": {
    "collapsed": false
   },
   "outputs": [
    {
     "name": "stdout",
     "output_type": "stream",
     "text": [
      "Variance score : 0.174269546758\n"
     ]
    }
   ],
   "source": [
    "# Variance score : 1 is perfect prediction\n",
    "print \"Variance score : \" + str(ridge_reg.score(X_test, y_test))"
   ]
  },
  {
   "cell_type": "markdown",
   "metadata": {},
   "source": [
    "## Step B_3 : Plot the learned Ridge Regression model"
   ]
  },
  {
   "cell_type": "code",
   "execution_count": 48,
   "metadata": {
    "collapsed": false
   },
   "outputs": [
    {
     "data": {
      "text/plain": [
       "[<matplotlib.lines.Line2D at 0x128b6d190>]"
      ]
     },
     "execution_count": 48,
     "metadata": {},
     "output_type": "execute_result"
    },
    {
     "data": {
      "image/png": "[encoded data removed]",
      "text/plain": [
       "<matplotlib.figure.Figure at 0x12853cf90>"
      ]
     },
     "metadata": {},
     "output_type": "display_data"
    }
   ],
   "source": [
    "grid = sns.JointGrid(x=X_test[:,0], y=y_test, ratio=50)\n",
    "grid.plot_joint(plt.scatter)\n",
    "plt.plot(X_test[:,0], y_pred_ridge, color='green')"
   ]
  },
  {
   "cell_type": "markdown",
   "metadata": {},
   "source": [
    "## Step B_4 : Plot Ridge coefficients as a function of the regularization"
   ]
  },
  {
   "cell_type": "code",
   "execution_count": 57,
   "metadata": {
    "collapsed": true
   },
   "outputs": [],
   "source": [
    "n_lambda = 100\n",
    "lambdas = np.logspace(-10, 10, n_lambda)\n",
    "clf = Ridge()\n",
    "\n",
    "coefs = []\n",
    "for l in lambdas:\n",
    "    clf.set_params(alpha=l)\n",
    "    clf.fit(X_train, y_train)\n",
    "    coefs.append(clf.coef_)"
   ]
  },
  {
   "cell_type": "code",
   "execution_count": 58,
   "metadata": {
    "collapsed": false
   },
   "outputs": [
    {
     "data": {
      "image/png": "[encoded data removed]",
      "text/plain": [
       "<matplotlib.figure.Figure at 0x12a355b90>"
      ]
     },
     "metadata": {},
     "output_type": "display_data"
    }
   ],
   "source": [
    "#Display result\n",
    "ax = plt.gca()\n",
    "ax.plot(lambdas, coefs)\n",
    "ax.set_xscale('log')\n",
    "\n",
    "plt.xlabel('lambda')\n",
    "plt.ylabel('weights')\n",
    "plt.show()"
   ]
  },
  {
   "cell_type": "markdown",
   "metadata": {},
   "source": [
    "## Step B_5 : Perform the cross validation"
   ]
  },
  {
   "cell_type": "code",
   "execution_count": 60,
   "metadata": {
    "collapsed": false
   },
   "outputs": [],
   "source": [
    "#Import cross validation\n",
    "from sklearn.cross_validation import cross_val_score\n",
    "n_lambda = 100\n",
    "lambdas = np.logspace (-10, 10, n_lambda)\n",
    "ridge_lambda_cv = Ridge()\n",
    "\n",
    "cv_mean_error = []\n",
    "for l in lambdas:\n",
    "    ridge_lambda_cv.set_params(alpha=l)\n",
    "    cv_mean_error.append(cross_val_score(ridge_lambda_cv, X_train, y_train, cv=10, scoring='mean_squared_error').mean())\n",
    "    "
   ]
  },
  {
   "cell_type": "code",
   "execution_count": 61,
   "metadata": {
    "collapsed": false
   },
   "outputs": [
    {
     "name": "stdout",
     "output_type": "stream",
     "text": [
      "[-3816.4258430247633, -3816.4258430194059, -3816.4258430108735, -3816.425842997287, -3816.4258429756555, -3816.4258429412102, -3816.4258428863659, -3816.4258427990362, -3816.4258426599831, -3816.4258424385725, -3816.4258420860219, -3816.4258415246645, -3816.425840630824, -3816.4258392075803, -3816.4258369413787, -3816.425833332959, -3816.4258275873699, -3816.4258184388541, -3816.4258038720559, -3816.4257806781657, -3816.4257437483784, -3816.4256849493804, -3816.4255913340448, -3816.4254422955282, -3816.4252050438226, -3816.4248274235238, -3816.4242265293374, -3816.4232707096839, -3816.4217512432415, -3816.4193380811571, -3816.4155115075155, -3816.4094587222016, -3816.3999228386501, -3816.3849970133656, -3816.361883948683, -3816.326732958888, -3816.2749329133267, -3816.2029574993007, -3816.1147129293327, -3816.0399490497803, -3816.0833007935953, -3816.5473239638823, -3818.2236838526087, -3823.0331463745051, -3835.2833445179808, -3863.7048961174778, -3923.5975974196276, -4036.372808806781, -4222.0756291762327, -4484.5679213277599, -4800.4839401966983, -5126.2576890950568, -5419.6829647583718, -5656.7133535854427, -5833.1866515197507, -5957.1864802895343, -6040.9468885204105, -6096.0672052586388, -6131.7295257049609, -6154.5525078575174, -6169.0575635555051, -6178.2357215625061, -6184.0271385007127, -6187.6751276118039, -6189.970448950291, -6191.4136683967672, -6192.3207200001189, -6192.8906384225511, -6193.2486678161731, -6193.4735617484612, -6193.614817882024, -6193.7035372370692, -6193.7592580968067, -6193.7942534143021, -6193.8162318855229, -6193.8300351605822, -6193.8387040805774, -6193.8441484390305, -6193.8475676642965, -6193.8497150411558, -6193.8510636578831, -6193.8519106290723, -6193.8524425518954, -6193.85277661502, -6193.8529864164339, -6193.8531181778508, -6193.8532009278661, -6193.8532528972892, -6193.8532855356025, -6193.8533060334148, -6193.8533189066384, -6193.8533269913987, -6193.8533320688639, -6193.8533352576605, -6193.8533372603151, -6193.8533385180426, -6193.8533393079324, -6193.8533398040054, -6193.8533401155537, -6193.8533403112151]\n"
     ]
    }
   ],
   "source": [
    "#print cv_mean_error\n",
    "#Choose lambda with minimum cv_mean_error\n",
    "#Plot scatter plot between lambda and cv_mean_error\n",
    "sns.sca"
   ]
  },
  {
   "cell_type": "code",
   "execution_count": null,
   "metadata": {
    "collapsed": true
   },
   "outputs": [],
   "source": []
  }
 ],
 "metadata": {
  "kernelspec": {
   "display_name": "Python 2",
   "language": "python",
   "name": "python2"
  },
  "language_info": {
   "codemirror_mode": {
    "name": "ipython",
    "version": 2
   },
   "file_extension": ".py",
   "mimetype": "text/x-python",
   "name": "python",
   "nbconvert_exporter": "python",
   "pygments_lexer": "ipython2",
   "version": "2.7.12"
  }
 },
 "nbformat": 4,
 "nbformat_minor": 0
}
