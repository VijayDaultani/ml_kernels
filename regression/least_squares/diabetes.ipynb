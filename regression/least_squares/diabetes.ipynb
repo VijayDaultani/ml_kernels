{
 "cells": [
  {
   "cell_type": "markdown",
   "metadata": {},
   "source": [
    "# Following will be the steps we will follow to perform linear regression on the dataset.¶\n",
    "\n",
    "* Step 1 : Import Necessary Libraries\n",
    "* Step 2 : Load Data\n",
    "* Step 3 : Start Exploring dataset\n",
    "* Step 4 : Use Seaborn to visualize the dataset\n",
    "* Step 5 : Splitting X and y into training and testing sets\n",
    "* Step 6 : Creating and training a Linear regression object\n",
    "* Step 7 : Predictions on testing data and metrics\n",
    "* Step 8 : Plot the learned Linear regression model\n",
    "* Step 9 : No need to perform the cross validation ?"
   ]
  },
  {
   "cell_type": "markdown",
   "metadata": {},
   "source": [
    "# Step 1 : Import Necessary Libraries"
   ]
  },
  {
   "cell_type": "code",
   "execution_count": 99,
   "metadata": {
    "collapsed": true
   },
   "outputs": [],
   "source": [
    "\"\"\"\n",
    "First of all we will import necessary packages required for our task of exploration,\n",
    "visualization, analaysis and fitting models and measuring how good they are\n",
    "\"\"\"\n",
    "\n",
    "#Import numpy and pandas\n",
    "import numpy as np\n",
    "#import pandas as pd\n",
    "\n",
    "#Import seaborn and matplotlib for plotting\n",
    "import matplotlib.pyplot as plt \n",
    "import seaborn as sns\n",
    "\n",
    "#Magic line to print all matplotlib plots on the same notebook\n",
    "%matplotlib inline\n",
    "\n",
    "#Import dataset and linear_model from sklearn\n",
    "from sklearn import datasets\n",
    "from sklearn.linear_model import LinearRegression\n",
    "from sklearn.cross_validation import train_test_split"
   ]
  },
  {
   "cell_type": "markdown",
   "metadata": {},
   "source": [
    "# Step 2 : Load Data"
   ]
  },
  {
   "cell_type": "code",
   "execution_count": 100,
   "metadata": {
    "collapsed": false
   },
   "outputs": [],
   "source": [
    "\"\"\"\n",
    "Load the diabetes dataset\n",
    "\"\"\"\n",
    "diabetes = datasets.load_diabetes()\n",
    "\n",
    "#Use only one feature for our analysis i.e. feature 2\n",
    "X = diabetes.data[:,np.newaxis, 2]\n",
    "y = diabetes.target"
   ]
  },
  {
   "cell_type": "markdown",
   "metadata": {},
   "source": [
    "# Step 3 : Start Exploring dataset"
   ]
  },
  {
   "cell_type": "code",
   "execution_count": 101,
   "metadata": {
    "collapsed": false
   },
   "outputs": [
    {
     "name": "stdout",
     "output_type": "stream",
     "text": [
      "(442, 1)\n",
      "(442,)\n"
     ]
    }
   ],
   "source": [
    "print X.shape\n",
    "print y.shape"
   ]
  },
  {
   "cell_type": "markdown",
   "metadata": {},
   "source": [
    "# Step 4 : Use seaborn to visualize the dataset"
   ]
  },
  {
   "cell_type": "code",
   "execution_count": 102,
   "metadata": {
    "collapsed": false
   },
   "outputs": [
    {
     "data": {
      "text/plain": [
       "<seaborn.axisgrid.JointGrid at 0x12cd77850>"
      ]
     },
     "execution_count": 102,
     "metadata": {},
     "output_type": "execute_result"
    },
    {
     "data": {
      "image/png": "[encoded data removed]",
      "text/plain": [
       "<matplotlib.figure.Figure at 0x12cd772d0>"
      ]
     },
     "metadata": {},
     "output_type": "display_data"
    }
   ],
   "source": [
    "sns.jointplot(x=X[:,0], y=y)"
   ]
  },
  {
   "cell_type": "markdown",
   "metadata": {},
   "source": [
    "# Step 5 : Splitting X and y into training and testing sets\n"
   ]
  },
  {
   "cell_type": "code",
   "execution_count": 103,
   "metadata": {
    "collapsed": false
   },
   "outputs": [
    {
     "name": "stdout",
     "output_type": "stream",
     "text": [
      "X_train shape : (331, 1)\n",
      "X_test shape : (111, 1)\n",
      "y_train shape : (331,)\n",
      "y_test shape : (111,)\n"
     ]
    }
   ],
   "source": [
    "X_train, X_test, y_train, y_test = train_test_split(X, y, random_state = 1)\n",
    "\n",
    "#Scikit does 75% for training and 25% for testing by default\n",
    "print \"X_train shape : \" + str(X_train.shape)\n",
    "print \"X_test shape : \" + str(X_test.shape)\n",
    "print \"y_train shape : \" + str(y_train.shape)\n",
    "print \"y_test shape : \" + str(y_test.shape)"
   ]
  },
  {
   "cell_type": "markdown",
   "metadata": {},
   "source": [
    "# Step 6 : Creating and training a Linear regression object"
   ]
  },
  {
   "cell_type": "code",
   "execution_count": 104,
   "metadata": {
    "collapsed": false
   },
   "outputs": [
    {
     "data": {
      "text/plain": [
       "LinearRegression(copy_X=True, fit_intercept=True, n_jobs=1, normalize=False)"
      ]
     },
     "execution_count": 104,
     "metadata": {},
     "output_type": "execute_result"
    }
   ],
   "source": [
    "#Create a linear regression object\n",
    "lin_reg = LinearRegression()\n",
    "\n",
    "#Train the model using the training set\n",
    "lin_reg.fit(X_train, y_train)"
   ]
  },
  {
   "cell_type": "code",
   "execution_count": 105,
   "metadata": {
    "collapsed": false
   },
   "outputs": [
    {
     "name": "stdout",
     "output_type": "stream",
     "text": [
      "Intercept : 151.45222564\n",
      "coefficeint : [ 1015.81069855]\n"
     ]
    }
   ],
   "source": [
    "#Print the learned intercept and coefficients\n",
    "print \"Intercept : \" + str(lin_reg.intercept_)\n",
    "print \"coefficeint : \" + str(lin_reg.coef_)"
   ]
  },
  {
   "cell_type": "markdown",
   "metadata": {},
   "source": [
    "# Step 7 : Predictions on testing data and metrics"
   ]
  },
  {
   "cell_type": "code",
   "execution_count": 106,
   "metadata": {
    "collapsed": false
   },
   "outputs": [
    {
     "name": "stdout",
     "output_type": "stream",
     "text": [
      "RSS : 4309.22121288\n",
      "RMSE : 65.6446586775\n"
     ]
    }
   ],
   "source": [
    "#Make predictions on test data\n",
    "y_pred = lin_reg.predict(X_test)\n",
    "\n",
    "# The mean RSS (Residual Sum of Squares)\n",
    "RSS = np.mean((y_pred - y_test) ** 2)\n",
    "print \"RSS : \" + str(RSS)\n",
    "\n",
    "#Print RMSE (Root Mean Squared Error)\n",
    "RMSE = np.sqrt(RSS)\n",
    "print \"RMSE : \" + str(RMSE)\n",
    "\n",
    "#from sklearn import metrics\n",
    "#print np.sqrt(metrics.mean_squared_error(y_test,y_pred))"
   ]
  },
  {
   "cell_type": "code",
   "execution_count": 107,
   "metadata": {
    "collapsed": false
   },
   "outputs": [
    {
     "name": "stdout",
     "output_type": "stream",
     "text": [
      "Variance score : 0.174662098653\n"
     ]
    }
   ],
   "source": [
    "# Variance score : 1 is perfect prediction\n",
    "print \"Variance score : \" + str(lin_reg.score(X_test, y_test))"
   ]
  },
  {
   "cell_type": "markdown",
   "metadata": {},
   "source": [
    "# Step 8 : Plot the learned Linear regression model"
   ]
  },
  {
   "cell_type": "code",
   "execution_count": 108,
   "metadata": {
    "collapsed": false
   },
   "outputs": [
    {
     "data": {
      "text/plain": [
       "[<matplotlib.lines.Line2D at 0x12c973cd0>]"
      ]
     },
     "execution_count": 108,
     "metadata": {},
     "output_type": "execute_result"
    },
    {
     "data": {
      "image/png": "[encoded data removed]",
      "text/plain": [
       "<matplotlib.figure.Figure at 0x12d51a450>"
      ]
     },
     "metadata": {},
     "output_type": "display_data"
    }
   ],
   "source": [
    "grid = sns.JointGrid(x=X_test[:,0], y=y_test, ratio=50)\n",
    "grid.plot_joint(plt.scatter)\n",
    "plt.plot(X_test[:,0], y_pred, color='green')"
   ]
  },
  {
   "cell_type": "markdown",
   "metadata": {},
   "source": [
    "# Step 9 : No need to perform the cross validation ?"
   ]
  }
 ],
 "metadata": {
  "kernelspec": {
   "display_name": "Python 2",
   "language": "python",
   "name": "python2"
  },
  "language_info": {
   "codemirror_mode": {
    "name": "ipython",
    "version": 2
   },
   "file_extension": ".py",
   "mimetype": "text/x-python",
   "name": "python",
   "nbconvert_exporter": "python",
   "pygments_lexer": "ipython2",
   "version": "2.7.12"
  }
 },
 "nbformat": 4,
 "nbformat_minor": 0
}
