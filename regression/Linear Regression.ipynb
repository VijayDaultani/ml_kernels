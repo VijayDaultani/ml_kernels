{
 "cells": [
  {
   "cell_type": "markdown",
   "metadata": {},
   "source": [
    "# Following will be the steps we will follow to perform linear regression on the dataset.\n",
    "\n",
    "* Perform ridge regression.\n",
    "* Perform lasso regression.\n",
    "* Perform NN regression.\n"
   ]
  },
  {
   "cell_type": "markdown",
   "metadata": {
    "collapsed": true
   },
   "source": [
    "# Step 1 : Import Necessary Libraries"
   ]
  },
  {
   "cell_type": "code",
   "execution_count": 1,
   "metadata": {
    "collapsed": false
   },
   "outputs": [],
   "source": [
    "\"\"\"\n",
    "First of all we will import necessary packages required for our tasks of exploration,\n",
    "visualization, analysis and fitting models and measuring how good they are\n",
    "\"\"\"\n",
    "#Import numpy and pandas\n",
    "import numpy as np\n",
    "import pandas as pd\n",
    "\n",
    "#Import seaborn and matplotlib for plotting\n",
    "import seaborn as sns\n",
    "import matplotlib.pyplot as plt\n",
    "#Below line is used to make sure matplotlib plots all graphs on the same notebook\n",
    "%matplotlib inline\n",
    "\n",
    "#Current version of seaborn issues some warnings, we shall ignore them for now\n",
    "import warnings\n",
    "warnings.filterwarnings(\"ignore\")"
   ]
  },
  {
   "cell_type": "markdown",
   "metadata": {},
   "source": [
    "# Step 2 : Perform some preprocessing\n",
    "* Normalize all features.\n",
    "* Use numpy linalg.norm for normalization.\n",
    "* Write pretty printing functions of numpy\n",
    "* Perform feature engineering to get some interaction and different features.\n",
    "* Look for High leverage and Influential observations in the code.\n",
    "* Divide data into training, validation and test set"
   ]
  },
  {
   "cell_type": "markdown",
   "metadata": {},
   "source": [
    "# Regression Method 1 : Least square regression\n",
    "* Explain the objective function of Least square regression"
   ]
  },
  {
   "cell_type": "markdown",
   "metadata": {
    "collapsed": true
   },
   "source": [
    "# Regression Method 2 : Perform ridge regression (a.k.a regularization) \n",
    "* Explain the obective function of ridge regression.\n",
    "* Perform ridge regression\n",
    "* Evaluate l2 penalties using cross validation and choose the best one. Draw graph for distribution\n",
    "* Evaluate on test data"
   ]
  },
  {
   "cell_type": "markdown",
   "metadata": {},
   "source": [
    "# Regression Method 3 : Perform lasso regression \n",
    "* Explaining the objective function of lasso\n",
    "* Implementing single coordinate descent step\n",
    "* Implementing Cyclical Coordinate descent algorithm\n",
    "* Evaluate l1 penalties using cross validation and choose the best one. Draw graph for distribution\n",
    "* Evaluate on test data\n",
    "* Implement debiasing (lasso followed by least square (not regularization)"
   ]
  },
  {
   "cell_type": "markdown",
   "metadata": {},
   "source": [
    "# Regression Method 4 : Perform NN regression\n",
    "* 1D NN\n",
    "* Distance metric : Euclidean and Manhattan"
   ]
  }
 ],
 "metadata": {
  "kernelspec": {
   "display_name": "Python 2",
   "language": "python",
   "name": "python2"
  },
  "language_info": {
   "codemirror_mode": {
    "name": "ipython",
    "version": 2
   },
   "file_extension": ".py",
   "mimetype": "text/x-python",
   "name": "python",
   "nbconvert_exporter": "python",
   "pygments_lexer": "ipython2",
   "version": "2.7.12"
  }
 },
 "nbformat": 4,
 "nbformat_minor": 0
}
