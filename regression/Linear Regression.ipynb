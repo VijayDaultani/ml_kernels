{
 "cells": [
  {
   "cell_type": "markdown",
   "metadata": {},
   "source": [
    "# Following will be the steps we will follow to perform linear regression on the dataset.\n",
    "\n",
    "* Normalize all features.\n",
    "* Perform feature engineering to get some interaction and different features.\n",
    "* Perform lasso for feature selection and get l1_penalty\n",
    "* Fit increasing degree models and look for high variance.\n",
    "* Before implementing regularization implement k fold cross validation.\n",
    "* Use regularization to limit parameters magnitude and get l2_penalty.\n",
    "* Fit model with l1_penalty and l2_penalty on complete training dataset.\n",
    "* Evaluate on Test dataset and return."
   ]
  },
  {
   "cell_type": "code",
   "execution_count": null,
   "metadata": {
    "collapsed": true
   },
   "outputs": [],
   "source": []
  }
 ],
 "metadata": {
  "kernelspec": {
   "display_name": "Python 2",
   "language": "python",
   "name": "python2"
  },
  "language_info": {
   "codemirror_mode": {
    "name": "ipython",
    "version": 2
   },
   "file_extension": ".py",
   "mimetype": "text/x-python",
   "name": "python",
   "nbconvert_exporter": "python",
   "pygments_lexer": "ipython2",
   "version": "2.7.12"
  }
 },
 "nbformat": 4,
 "nbformat_minor": 0
}
