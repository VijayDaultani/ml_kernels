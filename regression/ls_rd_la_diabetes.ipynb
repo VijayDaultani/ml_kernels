{
 "cells": [
  {
   "cell_type": "markdown",
   "metadata": {},
   "source": [
    "# Following will be the steps we will follow to perform linear regression on the dataset.¶\n",
    "\n",
    "## Setup\n",
    "* Step 1 : Import Necessary Libraries\n",
    "* Step 2 : Load Data\n",
    "* Step 3 : Start Exploring dataset\n",
    "* Step 4 : Use Seaborn to visualize the dataset\n",
    "* Step 5 : Splitting X and y into training and testing sets\n",
    "\n",
    "## Module A : Ordinary Least Squares Method\n",
    "* Step A_1 : Creating and training a Linear Regression object\n",
    "* Step A_2 : Predictions on testing data and metrics\n",
    "* Step A_3 : Plot the learned Linear Regression model\n",
    "* Step A_4 : No need to perform the cross validation ?\n",
    "\n",
    "## Module B : Ridge Regression\n",
    "* Step B_1 : Creating and training a Ridge Regression object\n",
    "* Step B_2 : Predictions on testing data and metrics\n",
    "* Step B_3 : Plot the learned Ridge Regression model\n",
    "* Step B_4 : Perform cross validation\n",
    "\n",
    "## Module C : Lasso Regression\n",
    "* Step C_1 : Creating and training a Lasso Regression object\n",
    "* Step C_2 : Predictions on testing data and metrics\n",
    "* Step C_3 : Plot the learned Lasso Regression model\n",
    "* Step C_4 : Perform cross validation"
   ]
  },
  {
   "cell_type": "markdown",
   "metadata": {},
   "source": [
    "# Setup\n",
    "## Step 1 : Import Necessary Libraries"
   ]
  },
  {
   "cell_type": "code",
   "execution_count": 1,
   "metadata": {
    "collapsed": true
   },
   "outputs": [],
   "source": [
    "\"\"\"\n",
    "First of all we will import necessary packages required for our task of exploration,\n",
    "visualization, analaysis and fitting models and measuring how good they are\n",
    "\"\"\"\n",
    "\n",
    "#Import numpy and pandas\n",
    "import numpy as np\n",
    "#import pandas as pd\n",
    "\n",
    "#Import seaborn and matplotlib for plotting\n",
    "import matplotlib.pyplot as plt \n",
    "import seaborn as sns\n",
    "\n",
    "#Magic line to print all matplotlib plots on the same notebook\n",
    "%matplotlib inline\n",
    "\n",
    "#Import dataset and linear_model from sklearn\n",
    "from sklearn import datasets\n",
    "from sklearn.cross_validation import train_test_split"
   ]
  },
  {
   "cell_type": "markdown",
   "metadata": {},
   "source": [
    "# Step 2 : Load Data"
   ]
  },
  {
   "cell_type": "code",
   "execution_count": 28,
   "metadata": {
    "collapsed": false
   },
   "outputs": [],
   "source": [
    "\"\"\"\n",
    "Load the diabetes dataset\n",
    "\"\"\"\n",
    "diabetes = datasets.load_diabetes()\n",
    "\n",
    "#Use only one feature for our analysis i.e. feature 2\n",
    "X = diabetes.data[:,np.newaxis, 2]\n",
    "y = diabetes.target"
   ]
  },
  {
   "cell_type": "markdown",
   "metadata": {},
   "source": [
    "# Step 3 : Start Exploring dataset"
   ]
  },
  {
   "cell_type": "code",
   "execution_count": 29,
   "metadata": {
    "collapsed": false
   },
   "outputs": [
    {
     "name": "stdout",
     "output_type": "stream",
     "text": [
      "X Shape : (442, 1)\n",
      "y Shape : (442,)\n"
     ]
    }
   ],
   "source": [
    "print \"X Shape : \" + str(X.shape)\n",
    "print \"y Shape : \" + str(y.shape)"
   ]
  },
  {
   "cell_type": "markdown",
   "metadata": {},
   "source": [
    "# Step 4 : Use seaborn to visualize the dataset"
   ]
  },
  {
   "cell_type": "code",
   "execution_count": 30,
   "metadata": {
    "collapsed": false
   },
   "outputs": [
    {
     "data": {
      "text/plain": [
       "<seaborn.axisgrid.JointGrid at 0x12573a390>"
      ]
     },
     "execution_count": 30,
     "metadata": {},
     "output_type": "execute_result"
    },
    {
     "data": {
      "image/png": "[encoded data removed]",
      "text/plain": [
       "<matplotlib.figure.Figure at 0x12573aa10>"
      ]
     },
     "metadata": {},
     "output_type": "display_data"
    }
   ],
   "source": [
    "sns.jointplot(x=X[:,0], y=y)"
   ]
  },
  {
   "cell_type": "markdown",
   "metadata": {},
   "source": [
    "# Step 5 : Splitting X and y into training and testing sets\n"
   ]
  },
  {
   "cell_type": "code",
   "execution_count": 31,
   "metadata": {
    "collapsed": false
   },
   "outputs": [
    {
     "name": "stdout",
     "output_type": "stream",
     "text": [
      "X_train shape : (331, 1)\n",
      "X_test shape : (111, 1)\n",
      "y_train shape : (331,)\n",
      "y_test shape : (111,)\n"
     ]
    }
   ],
   "source": [
    "X_train, X_test, y_train, y_test = train_test_split(X, y, random_state = 1)\n",
    "\n",
    "#Scikit does 75% for training and 25% for testing by default\n",
    "print \"X_train shape : \" + str(X_train.shape)\n",
    "print \"X_test shape : \" + str(X_test.shape)\n",
    "print \"y_train shape : \" + str(y_train.shape)\n",
    "print \"y_test shape : \" + str(y_test.shape)"
   ]
  },
  {
   "cell_type": "markdown",
   "metadata": {},
   "source": [
    "# Module A : Ordinary Least Squares Method\n",
    "## Step A_1 : Creating and training a Linear regression object"
   ]
  },
  {
   "cell_type": "code",
   "execution_count": 32,
   "metadata": {
    "collapsed": false
   },
   "outputs": [
    {
     "data": {
      "text/plain": [
       "LinearRegression(copy_X=True, fit_intercept=True, n_jobs=1, normalize=False)"
      ]
     },
     "execution_count": 32,
     "metadata": {},
     "output_type": "execute_result"
    }
   ],
   "source": [
    "#Import LinearRegression \n",
    "from sklearn.linear_model import LinearRegression\n",
    "\n",
    "#Create a linear regression object\n",
    "lin_reg = LinearRegression()\n",
    "\n",
    "#Train the model using the training set\n",
    "lin_reg.fit(X_train, y_train)"
   ]
  },
  {
   "cell_type": "code",
   "execution_count": 33,
   "metadata": {
    "collapsed": false
   },
   "outputs": [
    {
     "name": "stdout",
     "output_type": "stream",
     "text": [
      "Intercept : 151.45222564\n",
      "coefficeint : [ 1015.81069855]\n"
     ]
    }
   ],
   "source": [
    "#Print the learned intercept and coefficients\n",
    "print \"Intercept : \" + str(lin_reg.intercept_)\n",
    "print \"coefficeint : \" + str(lin_reg.coef_)"
   ]
  },
  {
   "cell_type": "markdown",
   "metadata": {},
   "source": [
    "## Step A_2 : Predictions on testing data and metrics"
   ]
  },
  {
   "cell_type": "code",
   "execution_count": 41,
   "metadata": {
    "collapsed": false
   },
   "outputs": [
    {
     "name": "stdout",
     "output_type": "stream",
     "text": [
      "Linear Regression RSS : 4309.22121288\n",
      "Linear Regression RMSE : 65.6446586775\n"
     ]
    }
   ],
   "source": [
    "#Make predictions on test data\n",
    "y_pred_lin = lin_reg.predict(X_test)\n",
    "\n",
    "# The mean RSS (Residual Sum of Squares)\n",
    "RSS_lin = np.mean((y_pred_lin - y_test) ** 2)\n",
    "print \"Linear Regression RSS : \" + str(RSS_lin)\n",
    "\n",
    "#Print RMSE (Root Mean Squared Error)\n",
    "RMSE_lin = np.sqrt(RSS_lin)\n",
    "print \"Linear Regression RMSE : \" + str(RMSE_lin)\n",
    "\n",
    "#from sklearn import metrics\n",
    "#print np.sqrt(metrics.mean_squared_error(y_test,y_pred_lin))"
   ]
  },
  {
   "cell_type": "code",
   "execution_count": 42,
   "metadata": {
    "collapsed": false
   },
   "outputs": [
    {
     "name": "stdout",
     "output_type": "stream",
     "text": [
      "Variance score : 0.174662098653\n"
     ]
    }
   ],
   "source": [
    "# Variance score : 1 is perfect prediction\n",
    "print \"Variance score : \" + str(lin_reg.score(X_test, y_test))"
   ]
  },
  {
   "cell_type": "markdown",
   "metadata": {},
   "source": [
    "## Step A_3 : Plot the learned Linear Regression model"
   ]
  },
  {
   "cell_type": "code",
   "execution_count": 43,
   "metadata": {
    "collapsed": false
   },
   "outputs": [
    {
     "data": {
      "text/plain": [
       "[<matplotlib.lines.Line2D at 0x12853ce50>]"
      ]
     },
     "execution_count": 43,
     "metadata": {},
     "output_type": "execute_result"
    },
    {
     "data": {
      "image/png": "[encoded data removed]",
      "text/plain": [
       "<matplotlib.figure.Figure at 0x12813a250>"
      ]
     },
     "metadata": {},
     "output_type": "display_data"
    }
   ],
   "source": [
    "grid = sns.JointGrid(x=X_test[:,0], y=y_test, ratio=50)\n",
    "grid.plot_joint(plt.scatter)\n",
    "plt.plot(X_test[:,0], y_pred_lin, color='green')"
   ]
  },
  {
   "cell_type": "markdown",
   "metadata": {},
   "source": [
    "# Step A_4 : No need to perform the cross validation ?"
   ]
  },
  {
   "cell_type": "markdown",
   "metadata": {},
   "source": [
    "# Module  B : Ridge Regression\n",
    "## Step B_1 : Creating and training a Ridge Regression object"
   ]
  },
  {
   "cell_type": "code",
   "execution_count": 44,
   "metadata": {
    "collapsed": false
   },
   "outputs": [
    {
     "data": {
      "text/plain": [
       "Ridge(alpha=1.0, copy_X=True, fit_intercept=True, max_iter=None,\n",
       "   normalize=False, random_state=None, solver='auto', tol=0.001)"
      ]
     },
     "execution_count": 44,
     "metadata": {},
     "output_type": "execute_result"
    }
   ],
   "source": [
    "#Import Ridge Regression Model\n",
    "from sklearn.linear_model import Ridge\n",
    "\n",
    "#Create a linear regression object\n",
    "ridge_reg = Ridge()\n",
    "\n",
    "#Train the model using the training set\n",
    "#When alpha not set default is 1.0\n",
    "ridge_reg.fit(X_train, y_train)"
   ]
  },
  {
   "cell_type": "code",
   "execution_count": 46,
   "metadata": {
    "collapsed": false
   },
   "outputs": [
    {
     "name": "stdout",
     "output_type": "stream",
     "text": [
      "Intercept : 152.698430676\n",
      "coefficeint : [ 441.27616635]\n"
     ]
    }
   ],
   "source": [
    "#Print the learned intercept and coefficients\n",
    "print \"Intercept : \" + str(ridge_reg.intercept_)\n",
    "print \"coefficeint : \" + str(ridge_reg.coef_)"
   ]
  },
  {
   "cell_type": "markdown",
   "metadata": {},
   "source": [
    "## Step B_2 : Predictions on testing data and metrics"
   ]
  },
  {
   "cell_type": "code",
   "execution_count": 45,
   "metadata": {
    "collapsed": false
   },
   "outputs": [
    {
     "name": "stdout",
     "output_type": "stream",
     "text": [
      "Ridge Regression RSS : 4311.27078912\n",
      "Ridge Regression RMSE : 65.6602679641\n"
     ]
    }
   ],
   "source": [
    "#Make predictions on test data\n",
    "y_pred_ridge = ridge_reg.predict(X_test)\n",
    "\n",
    "# The mean RSS (Residual Sum of Squares)\n",
    "RSS_ridge = np.mean((y_pred_ridge - y_test) ** 2)\n",
    "print \"Ridge Regression RSS : \" + str(RSS_ridge)\n",
    "\n",
    "#Print RMSE (Root Mean Squared Error)\n",
    "RMSE_ridge = np.sqrt(RSS_ridge)\n",
    "print \"Ridge Regression RMSE : \" + str(RMSE_ridge)\n",
    "\n",
    "#from sklearn import metrics\n",
    "#print np.sqrt(metrics.mean_squared_error(y_test,y_pred))"
   ]
  },
  {
   "cell_type": "code",
   "execution_count": 47,
   "metadata": {
    "collapsed": false
   },
   "outputs": [
    {
     "name": "stdout",
     "output_type": "stream",
     "text": [
      "Variance score : 0.174269546758\n"
     ]
    }
   ],
   "source": [
    "# Variance score : 1 is perfect prediction\n",
    "print \"Variance score : \" + str(ridge_reg.score(X_test, y_test))"
   ]
  },
  {
   "cell_type": "markdown",
   "metadata": {},
   "source": [
    "## Step B_3 : Plot the learned Ridge Regression model"
   ]
  },
  {
   "cell_type": "code",
   "execution_count": 48,
   "metadata": {
    "collapsed": false
   },
   "outputs": [
    {
     "data": {
      "text/plain": [
       "[<matplotlib.lines.Line2D at 0x128b6d190>]"
      ]
     },
     "execution_count": 48,
     "metadata": {},
     "output_type": "execute_result"
    },
    {
     "data": {
      "image/png": "[encoded data removed]",
      "text/plain": [
       "<matplotlib.figure.Figure at 0x12853cf90>"
      ]
     },
     "metadata": {},
     "output_type": "display_data"
    }
   ],
   "source": [
    "grid = sns.JointGrid(x=X_test[:,0], y=y_test, ratio=50)\n",
    "grid.plot_joint(plt.scatter)\n",
    "plt.plot(X_test[:,0], y_pred_ridge, color='green')"
   ]
  },
  {
   "cell_type": "markdown",
   "metadata": {},
   "source": [
    "## Step B_4 : Plot Ridge coefficients as a function of the regularization"
   ]
  },
  {
   "cell_type": "code",
   "execution_count": 57,
   "metadata": {
    "collapsed": true
   },
   "outputs": [],
   "source": [
    "n_lambda = 100\n",
    "lambdas = np.logspace(-10, 10, n_lambda)\n",
    "clf = Ridge()\n",
    "\n",
    "coefs = []\n",
    "for l in lambdas:\n",
    "    clf.set_params(alpha=l)\n",
    "    clf.fit(X_train, y_train)\n",
    "    coefs.append(clf.coef_)"
   ]
  },
  {
   "cell_type": "code",
   "execution_count": 58,
   "metadata": {
    "collapsed": false
   },
   "outputs": [
    {
     "data": {
      "image/png": "[encoded data removed]",
      "text/plain": [
       "<matplotlib.figure.Figure at 0x12a355b90>"
      ]
     },
     "metadata": {},
     "output_type": "display_data"
    }
   ],
   "source": [
    "#Display result\n",
    "ax = plt.gca()\n",
    "ax.plot(lambdas, coefs)\n",
    "ax.set_xscale('log')\n",
    "\n",
    "plt.xlabel('lambda')\n",
    "plt.ylabel('weights')\n",
    "plt.show()"
   ]
  },
  {
   "cell_type": "markdown",
   "metadata": {},
   "source": [
    "## Step B_5 : Perform the cross validation"
   ]
  },
  {
   "cell_type": "code",
   "execution_count": 70,
   "metadata": {
    "collapsed": false
   },
   "outputs": [
    {
     "name": "stdout",
     "output_type": "stream",
     "text": [
      "(100,)\n",
      "(100,)\n"
     ]
    }
   ],
   "source": [
    "#Import cross validation\n",
    "from sklearn.cross_validation import cross_val_score\n",
    "n_lambda = 100\n",
    "lambdas = np.logspace (-2,1, n_lambda)\n",
    "ridge_lambda_cv = Ridge()\n",
    "\n",
    "cv_mean_error = []\n",
    "for l in lambdas:\n",
    "    ridge_lambda_cv.set_params(alpha=l)\n",
    "    cv_mean_error.append(cross_val_score(ridge_lambda_cv, X_train, y_train, cv=10, scoring='mean_squared_error').mean())\n",
    "\n",
    "print lambdas.shape\n",
    "print np.asarray(cv_mean_error).shape"
   ]
  },
  {
   "cell_type": "code",
   "execution_count": 71,
   "metadata": {
    "collapsed": false
   },
   "outputs": [
    {
     "data": {
      "text/plain": [
       "<seaborn.axisgrid.JointGrid at 0x1298223d0>"
      ]
     },
     "execution_count": 71,
     "metadata": {},
     "output_type": "execute_result"
    },
    {
     "data": {
      "image/png": "[encoded data removed]",
      "text/plain": [
       "<matplotlib.figure.Figure at 0x12982dd10>"
      ]
     },
     "metadata": {},
     "output_type": "display_data"
    }
   ],
   "source": [
    "#print cv_mean_error\n",
    "#Choose lambda with minimum cv_mean_error\n",
    "#Plot scatter plot between lambda and cv_mean_error\n",
    "\n",
    "sns.jointplot(x=lambdas, y=np.asarray(cv_mean_error))"
   ]
  },
  {
   "cell_type": "markdown",
   "metadata": {},
   "source": [
    "## Step B_6 : Choosing the best value of lambda"
   ]
  },
  {
   "cell_type": "code",
   "execution_count": 82,
   "metadata": {
    "collapsed": false
   },
   "outputs": [
    {
     "data": {
      "text/plain": [
       "Ridge(alpha=10, copy_X=True, fit_intercept=True, max_iter=None,\n",
       "   normalize=False, random_state=None, solver='auto', tol=0.001)"
      ]
     },
     "execution_count": 82,
     "metadata": {},
     "output_type": "execute_result"
    }
   ],
   "source": [
    "#The best value of lamda is lets say 10\n",
    "#Train the model with best value of lambda and compare the RSS and RMSE\n",
    "ridge_reg_best = Ridge()\n",
    "ridge_reg_best.set_params(alpha=10)\n",
    "ridge_reg_best.fit(X_train, y_train)"
   ]
  },
  {
   "cell_type": "code",
   "execution_count": 83,
   "metadata": {
    "collapsed": false
   },
   "outputs": [
    {
     "name": "stdout",
     "output_type": "stream",
     "text": [
      "Intercept : 153.498428743\n",
      "coefficeint : [ 72.45522482]\n"
     ]
    }
   ],
   "source": [
    "#Print the learned intercept and coefficients\n",
    "print \"Intercept : \" + str(ridge_reg_best.intercept_)\n",
    "print \"coefficeint : \" + str(ridge_reg_best.coef_)"
   ]
  },
  {
   "cell_type": "code",
   "execution_count": 85,
   "metadata": {
    "collapsed": false
   },
   "outputs": [
    {
     "name": "stdout",
     "output_type": "stream",
     "text": [
      "Ridge Regression RSS : 5046.12477344\n",
      "Ridge Regression RMSE : 71.036080786\n"
     ]
    }
   ],
   "source": [
    "#Make predictions on test data\n",
    "y_pred_ridge_reg_best = ridge_reg_best.predict(X_test)\n",
    "\n",
    "# The mean RSS (Residual Sum of Squares)\n",
    "RSS_ridge_reg_best = np.mean((y_pred_ridge_reg_best - y_test) ** 2)\n",
    "print \"Ridge Regression RSS : \" + str(RSS_ridge_reg_best)\n",
    "\n",
    "#Print RMSE (Root Mean Squared Error)\n",
    "RMSE_ridge_reg_best = np.sqrt(RSS_ridge_reg_best)\n",
    "print \"Ridge Regression RMSE : \" + str(RMSE_ridge_reg_best)"
   ]
  },
  {
   "cell_type": "markdown",
   "metadata": {},
   "source": [
    "# Module C : Lasso Regression\n",
    "## Step C_1 : Creating and training a Lasso Regression object"
   ]
  },
  {
   "cell_type": "code",
   "execution_count": 86,
   "metadata": {
    "collapsed": false
   },
   "outputs": [
    {
     "data": {
      "text/plain": [
       "Lasso(alpha=1.0, copy_X=True, fit_intercept=True, max_iter=1000,\n",
       "   normalize=False, positive=False, precompute=False, random_state=None,\n",
       "   selection='cyclic', tol=0.0001, warm_start=False)"
      ]
     },
     "execution_count": 86,
     "metadata": {},
     "output_type": "execute_result"
    }
   ],
   "source": [
    "#Import Lasso Regression Model\n",
    "from sklearn.linear_model import Lasso\n",
    "\n",
    "#Create a linear regression object\n",
    "lasso_reg = Lasso()\n",
    "\n",
    "#Train the model using the training set\n",
    "#When alpha not set default is 1.0\n",
    "lasso_reg.fit(X_train, y_train)"
   ]
  },
  {
   "cell_type": "code",
   "execution_count": 88,
   "metadata": {
    "collapsed": false
   },
   "outputs": [
    {
     "name": "stdout",
     "output_type": "stream",
     "text": [
      "Intercept : 152.387000501\n",
      "coefficeint : [ 584.85397653]\n"
     ]
    }
   ],
   "source": [
    "#Print the learned intercept and coefficients\n",
    "print \"Intercept : \" + str(lasso_reg.intercept_)\n",
    "print \"coefficeint : \" + str(lasso_reg.coef_)"
   ]
  },
  {
   "cell_type": "markdown",
   "metadata": {},
   "source": [
    "## Step C_2 : Predictions on testing data and metrics"
   ]
  },
  {
   "cell_type": "code",
   "execution_count": 89,
   "metadata": {
    "collapsed": false
   },
   "outputs": [
    {
     "name": "stdout",
     "output_type": "stream",
     "text": [
      "Lasso Regression RSS : 4180.30597243\n",
      "Lasso Regression RMSE : 64.6552857269\n"
     ]
    }
   ],
   "source": [
    "#Make predictions on test data\n",
    "y_pred_lasso = lasso_reg.predict(X_test)\n",
    "\n",
    "# The mean RSS (Residual Sum of Squares)\n",
    "RSS_lasso = np.mean((y_pred_lasso - y_test) ** 2)\n",
    "print \"Lasso Regression RSS : \" + str(RSS_lasso)\n",
    "\n",
    "#Print RMSE (Root Mean Squared Error)\n",
    "RMSE_lasso = np.sqrt(RSS_lasso)\n",
    "print \"Lasso Regression RMSE : \" + str(RMSE_lasso)\n",
    "\n",
    "#from sklearn import metrics\n",
    "#print np.sqrt(metrics.mean_squared_error(y_test,y_pred))"
   ]
  },
  {
   "cell_type": "code",
   "execution_count": 91,
   "metadata": {
    "collapsed": false
   },
   "outputs": [
    {
     "name": "stdout",
     "output_type": "stream",
     "text": [
      "Variance score : 0.199353018137\n"
     ]
    }
   ],
   "source": [
    "# Variance score : 1 is perfect prediction\n",
    "print \"Variance score : \" + str(lasso_reg.score(X_test, y_test))"
   ]
  },
  {
   "cell_type": "markdown",
   "metadata": {},
   "source": [
    "## Step C_3 : Plot the learned Lasso Regression model"
   ]
  },
  {
   "cell_type": "code",
   "execution_count": 92,
   "metadata": {
    "collapsed": false
   },
   "outputs": [
    {
     "data": {
      "text/plain": [
       "[<matplotlib.lines.Line2D at 0x12b125d10>]"
      ]
     },
     "execution_count": 92,
     "metadata": {},
     "output_type": "execute_result"
    },
    {
     "data": {
      "image/png": "[encoded data removed]",
      "text/plain": [
       "<matplotlib.figure.Figure at 0x12a691190>"
      ]
     },
     "metadata": {},
     "output_type": "display_data"
    }
   ],
   "source": [
    "grid = sns.JointGrid(x=X_test[:,0], y=y_test, ratio=50)\n",
    "grid.plot_joint(plt.scatter)\n",
    "plt.plot(X_test[:,0], y_pred_lasso, color='green')"
   ]
  },
  {
   "cell_type": "markdown",
   "metadata": {},
   "source": [
    "## Step C_4 : Plot Lasso coefficients as a function of the regularization"
   ]
  },
  {
   "cell_type": "code",
   "execution_count": 93,
   "metadata": {
    "collapsed": true
   },
   "outputs": [],
   "source": [
    "n_lambda = 100\n",
    "lambdas = np.logspace(-10, 10, n_lambda)\n",
    "clf = Lasso()\n",
    "\n",
    "coefs = []\n",
    "for l in lambdas:\n",
    "    clf.set_params(alpha=l)\n",
    "    clf.fit(X_train, y_train)\n",
    "    coefs.append(clf.coef_)"
   ]
  },
  {
   "cell_type": "code",
   "execution_count": 94,
   "metadata": {
    "collapsed": false
   },
   "outputs": [
    {
     "data": {
      "image/png": "[encoded data removed]",
      "text/plain": [
       "<matplotlib.figure.Figure at 0x12af25150>"
      ]
     },
     "metadata": {},
     "output_type": "display_data"
    }
   ],
   "source": [
    "#Display result\n",
    "ax = plt.gca()\n",
    "ax.plot(lambdas, coefs)\n",
    "ax.set_xscale('log')\n",
    "\n",
    "plt.xlabel('lambda')\n",
    "plt.ylabel('weights')\n",
    "plt.show()"
   ]
  },
  {
   "cell_type": "markdown",
   "metadata": {},
   "source": [
    "## Step C_5 : Perform the cross validation"
   ]
  },
  {
   "cell_type": "code",
   "execution_count": 95,
   "metadata": {
    "collapsed": false
   },
   "outputs": [
    {
     "name": "stdout",
     "output_type": "stream",
     "text": [
      "(100,)\n",
      "(100,)\n"
     ]
    }
   ],
   "source": [
    "#Import cross validation\n",
    "from sklearn.cross_validation import cross_val_score\n",
    "n_lambda = 100\n",
    "lambdas = np.logspace (-2,1, n_lambda)\n",
    "lasso_lambda_cv = Lasso()\n",
    "\n",
    "cv_mean_error = []\n",
    "for l in lambdas:\n",
    "    lasso_lambda_cv.set_params(alpha=l)\n",
    "    cv_mean_error.append(cross_val_score(lasso_lambda_cv, X_train, y_train, cv=10, scoring='mean_squared_error').mean())\n",
    "\n",
    "print lambdas.shape\n",
    "print np.asarray(cv_mean_error).shape"
   ]
  },
  {
   "cell_type": "code",
   "execution_count": 96,
   "metadata": {
    "collapsed": false
   },
   "outputs": [
    {
     "data": {
      "text/plain": [
       "<seaborn.axisgrid.JointGrid at 0x12a708ad0>"
      ]
     },
     "execution_count": 96,
     "metadata": {},
     "output_type": "execute_result"
    },
    {
     "data": {
      "image/png": "[encoded data removed]",
      "text/plain": [
       "<matplotlib.figure.Figure at 0x12a708e50>"
      ]
     },
     "metadata": {},
     "output_type": "display_data"
    }
   ],
   "source": [
    "#print cv_mean_error\n",
    "#Choose lambda with minimum cv_mean_error\n",
    "#Plot scatter plot between lambda and cv_mean_error\n",
    "\n",
    "sns.jointplot(x=lambdas, y=np.asarray(cv_mean_error))"
   ]
  },
  {
   "cell_type": "code",
   "execution_count": null,
   "metadata": {
    "collapsed": true
   },
   "outputs": [],
   "source": []
  }
 ],
 "metadata": {
  "kernelspec": {
   "display_name": "Python 2",
   "language": "python",
   "name": "python2"
  },
  "language_info": {
   "codemirror_mode": {
    "name": "ipython",
    "version": 2
   },
   "file_extension": ".py",
   "mimetype": "text/x-python",
   "name": "python",
   "nbconvert_exporter": "python",
   "pygments_lexer": "ipython2",
   "version": "2.7.12"
  }
 },
 "nbformat": 4,
 "nbformat_minor": 0
}
