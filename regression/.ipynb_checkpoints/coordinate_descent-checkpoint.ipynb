{
 "cells": [
  {
   "cell_type": "code",
   "execution_count": 11,
   "metadata": {
    "collapsed": false
   },
   "outputs": [],
   "source": [
    "import numpy as np"
   ]
  },
  {
   "cell_type": "code",
   "execution_count": 12,
   "metadata": {
    "collapsed": true
   },
   "outputs": [],
   "source": [
    "\"\"\"\n",
    "Perform the prediction on the data\n",
    "\"\"\"\n",
    "def predict_output(feature_matrix,weights):\n",
    "    predictions = feature_matrix.dot(weights)\n",
    "    return predictions"
   ]
  },
  {
   "cell_type": "code",
   "execution_count": 13,
   "metadata": {
    "collapsed": true
   },
   "outputs": [],
   "source": [
    "\"\"\"\n",
    "Single Coordinate Descent Step\n",
    "\"\"\"\n",
    "def lasso_coordiante_descent_step(i, feature_matrix, output, weights, l1_penalty):\n",
    "    #Remove below after checking if the output's type\n",
    "    output = np.reshape(output, len(output))\n",
    "    \n",
    "    #Compute prediction\n",
    "    prediction = predict_output(feature_matrix,weights)\n",
    "    \n",
    "    #Compute ro[i] = SUM[ [feature_i]*(output - prediction + weight[i]*[feature_i]) ]\n",
    "    ro_i = (feature_matrix[:,i] * (output - prediction + weights[i] * feature_matrix[:,i])).sum()\n",
    "\n",
    "    if i == 0: # intercept -- do not regularize\n",
    "        new_weight_i = ro_i \n",
    "    elif ro_i < -l1_penalty/2.:\n",
    "        new_weight_i = ro_i + (l1_penalty/2)\n",
    "    elif ro_i > l1_penalty/2.:\n",
    "        new_weight_i = ro_i - (l1_penalty/2)\n",
    "    else:\n",
    "        new_weight_i = 0.\n",
    "    \n",
    "    return new_weight_i"
   ]
  },
  {
   "cell_type": "code",
   "execution_count": 14,
   "metadata": {
    "collapsed": true
   },
   "outputs": [],
   "source": [
    "\"\"\"\n",
    "Cyclical Coordinate Descent Step\n",
    "\"\"\"\n",
    "def lasso_cyclical_coordinate_descent(feature_matrix, output, initial_weights, l1_penalty, tolerance):\n",
    "    change = np.zeros(len(initial_weights))\n",
    "    change.fill(tolerance+1)\n",
    "    #print change\n",
    "    while(np.amax(change) > tolerance):\n",
    "        for i in range(len(initial_weights)):\n",
    "            #Remember the old weights\n",
    "            old_weights_i = initial_weights[i]\n",
    "            #Calculate the lasso coordinate step\n",
    "            initial_weights[i] = lasso_coordinate_descent_step(i, feature_matrix, output, initial_weights, l1_penalty)\n",
    "            #Calculate change in ith weight\n",
    "            #print initial_weights\n",
    "            #print(\"Old Weight for feature \") + str(i) + (\" is :\") + str(old_weights_i) + (\" New weight is : \") + str(initial_weights[i])\n",
    "            change[i] = abs(initial_weights[i] - old_weights_i)\n",
    "        #print(\"Tolerance is :\") + str(tolerance) + (\" Maximum change is :\") + str(np.amax(change))\n",
    "    return initial_weights"
   ]
  },
  {
   "cell_type": "code",
   "execution_count": null,
   "metadata": {
    "collapsed": true
   },
   "outputs": [],
   "source": []
  }
 ],
 "metadata": {
  "kernelspec": {
   "display_name": "Python 2",
   "language": "python",
   "name": "python2"
  },
  "language_info": {
   "codemirror_mode": {
    "name": "ipython",
    "version": 2
   },
   "file_extension": ".py",
   "mimetype": "text/x-python",
   "name": "python",
   "nbconvert_exporter": "python",
   "pygments_lexer": "ipython2",
   "version": "2.7.12"
  }
 },
 "nbformat": 4,
 "nbformat_minor": 0
}
