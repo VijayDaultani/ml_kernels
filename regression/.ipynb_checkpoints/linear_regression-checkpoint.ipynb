{
 "cells": [
  {
   "cell_type": "markdown",
   "metadata": {},
   "source": [
    "# Following will be the steps we will follow to perform linear regression on the dataset.\n",
    "\n",
    "* Perform ridge regression.\n",
    "* Perform lasso regression.\n",
    "* Perform NN regression.\n"
   ]
  },
  {
   "cell_type": "markdown",
   "metadata": {
    "collapsed": true
   },
   "source": [
    "# Step 1 : Import Necessary Libraries"
   ]
  },
  {
   "cell_type": "code",
   "execution_count": 54,
   "metadata": {
    "collapsed": false
   },
   "outputs": [
    {
     "data": {
      "text/plain": [
       "<module 'preprocessing_data' from 'preprocessing_data.py'>"
      ]
     },
     "execution_count": 54,
     "metadata": {},
     "output_type": "execute_result"
    }
   ],
   "source": [
    "\"\"\"\n",
    "First of all we will import necessary packages required for our tasks of exploration,\n",
    "visualization, analysis and fitting models and measuring how good they are\n",
    "\"\"\"\n",
    "#Import numpy and pandas\n",
    "import numpy as np\n",
    "import pandas as pd\n",
    "\n",
    "#Import seaborn and matplotlib for plotting\n",
    "import seaborn as sns\n",
    "import matplotlib.pyplot as plt\n",
    "#Below line is used to make sure matplotlib plots all graphs on the same notebook\n",
    "%matplotlib inline\n",
    "\n",
    "#Current version of seaborn issues some warnings, we shall ignore them for now\n",
    "import warnings\n",
    "warnings.filterwarnings(\"ignore\")\n",
    "\n",
    "#Import solver\n",
    "from preprocessing_data import normalize_features\n",
    "reload(preprocessing_data)"
   ]
  },
  {
   "cell_type": "markdown",
   "metadata": {},
   "source": [
    "# Step 2 : Load data "
   ]
  },
  {
   "cell_type": "code",
   "execution_count": 55,
   "metadata": {
    "collapsed": true
   },
   "outputs": [],
   "source": [
    "\"\"\"\n",
    "Load data in abalone_df Pandas DataFrame\n",
    "We use delimeter= \" \" because in the dataset the columns are separated using \" \"\n",
    "Also we specify names of the column explicitly to ease our understanding.\n",
    "\"\"\"\n",
    "abalone_df = pd.read_csv(\"../../data/abalone/Dataset.data\", delimiter=\" \",\n",
    "                         names=['Sex', 'Length', 'Diameter', 'Height', \n",
    "                                'Whole weight', 'Shucked weight', 'Viscera weight',\n",
    "                                'Shell weight', 'Rings'])"
   ]
  },
  {
   "cell_type": "markdown",
   "metadata": {},
   "source": [
    "# Step 3 : Start exploring dataset "
   ]
  },
  {
   "cell_type": "code",
   "execution_count": 56,
   "metadata": {
    "collapsed": false
   },
   "outputs": [
    {
     "name": "stdout",
     "output_type": "stream",
     "text": [
      "Number of Observations in the dataset : 4177\n"
     ]
    },
    {
     "data": {
      "text/html": [
       "<div>\n",
       "<table border=\"1\" class=\"dataframe\">\n",
       "  <thead>\n",
       "    <tr style=\"text-align: right;\">\n",
       "      <th></th>\n",
       "      <th>Sex</th>\n",
       "      <th>Length</th>\n",
       "      <th>Diameter</th>\n",
       "      <th>Height</th>\n",
       "      <th>Whole weight</th>\n",
       "      <th>Shucked weight</th>\n",
       "      <th>Viscera weight</th>\n",
       "      <th>Shell weight</th>\n",
       "      <th>Rings</th>\n",
       "    </tr>\n",
       "  </thead>\n",
       "  <tbody>\n",
       "    <tr>\n",
       "      <th>0</th>\n",
       "      <td>M</td>\n",
       "      <td>0.455</td>\n",
       "      <td>0.365</td>\n",
       "      <td>0.095</td>\n",
       "      <td>0.5140</td>\n",
       "      <td>0.2245</td>\n",
       "      <td>0.1010</td>\n",
       "      <td>0.150</td>\n",
       "      <td>15</td>\n",
       "    </tr>\n",
       "    <tr>\n",
       "      <th>1</th>\n",
       "      <td>M</td>\n",
       "      <td>0.350</td>\n",
       "      <td>0.265</td>\n",
       "      <td>0.090</td>\n",
       "      <td>0.2255</td>\n",
       "      <td>0.0995</td>\n",
       "      <td>0.0485</td>\n",
       "      <td>0.070</td>\n",
       "      <td>7</td>\n",
       "    </tr>\n",
       "    <tr>\n",
       "      <th>2</th>\n",
       "      <td>F</td>\n",
       "      <td>0.530</td>\n",
       "      <td>0.420</td>\n",
       "      <td>0.135</td>\n",
       "      <td>0.6770</td>\n",
       "      <td>0.2565</td>\n",
       "      <td>0.1415</td>\n",
       "      <td>0.210</td>\n",
       "      <td>9</td>\n",
       "    </tr>\n",
       "    <tr>\n",
       "      <th>3</th>\n",
       "      <td>M</td>\n",
       "      <td>0.440</td>\n",
       "      <td>0.365</td>\n",
       "      <td>0.125</td>\n",
       "      <td>0.5160</td>\n",
       "      <td>0.2155</td>\n",
       "      <td>0.1140</td>\n",
       "      <td>0.155</td>\n",
       "      <td>10</td>\n",
       "    </tr>\n",
       "    <tr>\n",
       "      <th>4</th>\n",
       "      <td>I</td>\n",
       "      <td>0.330</td>\n",
       "      <td>0.255</td>\n",
       "      <td>0.080</td>\n",
       "      <td>0.2050</td>\n",
       "      <td>0.0895</td>\n",
       "      <td>0.0395</td>\n",
       "      <td>0.055</td>\n",
       "      <td>7</td>\n",
       "    </tr>\n",
       "  </tbody>\n",
       "</table>\n",
       "</div>"
      ],
      "text/plain": [
       "  Sex  Length  Diameter  Height  Whole weight  Shucked weight  Viscera weight  \\\n",
       "0   M   0.455     0.365   0.095        0.5140          0.2245          0.1010   \n",
       "1   M   0.350     0.265   0.090        0.2255          0.0995          0.0485   \n",
       "2   F   0.530     0.420   0.135        0.6770          0.2565          0.1415   \n",
       "3   M   0.440     0.365   0.125        0.5160          0.2155          0.1140   \n",
       "4   I   0.330     0.255   0.080        0.2050          0.0895          0.0395   \n",
       "\n",
       "   Shell weight  Rings  \n",
       "0         0.150     15  \n",
       "1         0.070      7  \n",
       "2         0.210      9  \n",
       "3         0.155     10  \n",
       "4         0.055      7  "
      ]
     },
     "execution_count": 56,
     "metadata": {},
     "output_type": "execute_result"
    }
   ],
   "source": [
    "#First of all lets look how big the dataset is using len function\n",
    "print \"Number of Observations in the dataset : \" + str(len(abalone_df))\n",
    "\n",
    "#Now lets have a glimpse of first few rows of the dataset\n",
    "abalone_df.head()"
   ]
  },
  {
   "cell_type": "code",
   "execution_count": 75,
   "metadata": {
    "collapsed": false
   },
   "outputs": [
    {
     "name": "stdout",
     "output_type": "stream",
     "text": [
      "[[ 0.01309605  0.01345369  0.01009209 ...,  0.00739764  0.00839606\n",
      "   0.0222231 ]\n",
      " [ 0.01007388  0.00976774  0.00956093 ...,  0.00355233  0.00391816\n",
      "   0.01037078]\n",
      " [ 0.01525474  0.01548095  0.01434139 ...,  0.01036401  0.01175449\n",
      "   0.01333386]\n",
      " ..., \n",
      " [ 0.01726952  0.01750822  0.02177766 ...,  0.02105763  0.01723991\n",
      "   0.01333386]\n",
      " [ 0.01798908  0.01787681  0.01593488 ...,  0.01911666  0.01656823\n",
      "   0.0148154 ]\n",
      " [ 0.02043559  0.02045697  0.02071534 ...,  0.02757633  0.027707\n",
      "   0.01777848]]\n"
     ]
    }
   ],
   "source": [
    "\"\"\"\n",
    "First of all normalize all the features present in the dataset. \n",
    "We use function as_matrix of pandas to create the numpy into its numpy array representation\n",
    "\"\"\"\n",
    "abalone_df_normalized, norms = normalize_features(abalone_df.as_matrix(columns=['Length','Diameter','Height', \n",
    "                                'Whole weight', 'Shucked weight', 'Viscera weight',\n",
    "                                'Shell weight', 'Rings']))"
   ]
  },
  {
   "cell_type": "markdown",
   "metadata": {},
   "source": [
    "# Step 2 : Perform some preprocessing\n",
    "* Normalize all features.\n",
    "* Use numpy linalg.norm for normalization.\n",
    "* Write pretty printing functions of numpy\n",
    "* Perform feature engineering to get some interaction and different features.\n",
    "* Look for High leverage and Influential observations in the code.\n",
    "* Divide data into training, validation and test set"
   ]
  },
  {
   "cell_type": "markdown",
   "metadata": {},
   "source": [
    "# Regression Method 1 : Least square regression\n",
    "* Explain the objective function of Least square regression"
   ]
  },
  {
   "cell_type": "markdown",
   "metadata": {
    "collapsed": true
   },
   "source": [
    "# Regression Method 2 : Perform ridge regression (a.k.a regularization) \n",
    "* Explain the obective function of ridge regression.\n",
    "* Perform ridge regression\n",
    "* Evaluate l2 penalties using cross validation and choose the best one. Draw graph for distribution\n",
    "* Evaluate on test data"
   ]
  },
  {
   "cell_type": "markdown",
   "metadata": {},
   "source": [
    "# Regression Method 3 : Perform lasso regression \n",
    "* Explaining the objective function of lasso\n",
    "* Implementing single coordinate descent step\n",
    "* Implementing Cyclical Coordinate descent algorithm\n",
    "* Evaluate l1 penalties using cross validation and choose the best one. Draw graph for distribution\n",
    "* Evaluate on test data\n",
    "* Implement debiasing (lasso followed by least square (not regularization)"
   ]
  },
  {
   "cell_type": "markdown",
   "metadata": {},
   "source": [
    "# Regression Method 4 : Perform NN regression\n",
    "* 1D NN\n",
    "* Distance metric : Euclidean and Manhattan"
   ]
  },
  {
   "cell_type": "code",
   "execution_count": 10,
   "metadata": {
    "collapsed": false
   },
   "outputs": [
    {
     "name": "stdout",
     "output_type": "stream",
     "text": [
      "vijay\n"
     ]
    }
   ],
   "source": [
    "\n"
   ]
  },
  {
   "cell_type": "code",
   "execution_count": null,
   "metadata": {
    "collapsed": true
   },
   "outputs": [],
   "source": []
  }
 ],
 "metadata": {
  "kernelspec": {
   "display_name": "Python 2",
   "language": "python",
   "name": "python2"
  },
  "language_info": {
   "codemirror_mode": {
    "name": "ipython",
    "version": 2
   },
   "file_extension": ".py",
   "mimetype": "text/x-python",
   "name": "python",
   "nbconvert_exporter": "python",
   "pygments_lexer": "ipython2",
   "version": "2.7.12"
  }
 },
 "nbformat": 4,
 "nbformat_minor": 0
}
